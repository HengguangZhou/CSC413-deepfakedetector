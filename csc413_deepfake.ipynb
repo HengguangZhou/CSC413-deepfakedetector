{
  "nbformat": 4,
  "nbformat_minor": 0,
  "metadata": {
    "colab": {
      "name": "csc413 deepfake",
      "provenance": [],
      "collapsed_sections": []
    },
    "kernelspec": {
      "name": "python3",
      "display_name": "Python 3"
    },
    "language_info": {
      "name": "python"
    },
    "accelerator": "GPU"
  },
  "cells": [
    {
      "cell_type": "code",
      "metadata": {
        "id": "_RITk6GIgyKY"
      },
      "source": [
        "cv"
      ],
      "execution_count": null,
      "outputs": []
    },
    {
      "cell_type": "markdown",
      "metadata": {
        "id": "45hDXOc2DyWR"
      },
      "source": [
        ""
      ]
    },
    {
      "cell_type": "code",
      "metadata": {
        "id": "SnLG1DmFDwkQ"
      },
      "source": [
        "asdfasdfasfsad"
      ],
      "execution_count": null,
      "outputs": []
    },
    {
      "cell_type": "code",
      "metadata": {
        "id": "9V5_UGL8RW7E"
      },
      "source": [
        "asasdasdasd"
      ],
      "execution_count": null,
      "outputs": []
    }
  ]
}